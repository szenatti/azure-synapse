{
  "nbformat": 4,
  "nbformat_minor": 2,
  "cells": [
    {
      "cell_type": "code",
      "execution_count": 1,
      "outputs": [],
      "metadata": {
        "tags": [
          "parameters"
        ]
      },
      "source": [
        "schema=\"SalesLT\"\n",
        "table=\"CustomerAddress\"\n",
        "structure = \"\"\"[\n",
        "        {\n",
        "            \"physicalName\": \"CustomerID\",\n",
        "            \"type\": \"Int32\",\n",
        "            \"logicalType\": \"Int32\",\n",
        "            \"name\": \"CustomerID\",\n",
        "            \"physicalType\": \"int\",\n",
        "            \"precision\": 10,\n",
        "            \"scale\": 255,\n",
        "            \"DotNetType\": \"System.Int32, mscorlib, Version=4.0.0.0, Culture=neutral, PublicKeyToken=b77a5c561934e089\"\n",
        "        },\n",
        "        {\n",
        "            \"physicalName\": \"AddressID\",\n",
        "            \"type\": \"Int32\",\n",
        "            \"logicalType\": \"Int32\",\n",
        "            \"name\": \"AddressID\",\n",
        "            \"physicalType\": \"int\",\n",
        "            \"precision\": 10,\n",
        "            \"scale\": 255,\n",
        "            \"DotNetType\": \"System.Int32, mscorlib, Version=4.0.0.0, Culture=neutral, PublicKeyToken=b77a5c561934e089\"\n",
        "        },\n",
        "        {\n",
        "            \"physicalName\": \"AddressType\",\n",
        "            \"type\": \"String\",\n",
        "            \"logicalType\": \"String\",\n",
        "            \"name\": \"AddressType\",\n",
        "            \"physicalType\": \"nvarchar\",\n",
        "            \"precision\": 255,\n",
        "            \"scale\": 255,\n",
        "            \"DotNetType\": \"System.String, mscorlib, Version=4.0.0.0, Culture=neutral, PublicKeyToken=b77a5c561934e089\"\n",
        "        },\n",
        "        {\n",
        "            \"physicalName\": \"rowguid\",\n",
        "            \"type\": \"Guid\",\n",
        "            \"logicalType\": \"Guid\",\n",
        "            \"name\": \"rowguid\",\n",
        "            \"physicalType\": \"uniqueidentifier\",\n",
        "            \"precision\": 255,\n",
        "            \"scale\": 255,\n",
        "            \"DotNetType\": \"System.Guid, mscorlib, Version=4.0.0.0, Culture=neutral, PublicKeyToken=b77a5c561934e089\"\n",
        "        },\n",
        "        {\n",
        "            \"physicalName\": \"ModifiedDate\",\n",
        "            \"type\": \"DateTime\",\n",
        "            \"logicalType\": \"DateTime\",\n",
        "            \"name\": \"ModifiedDate\",\n",
        "            \"physicalType\": \"datetime\",\n",
        "            \"precision\": 23,\n",
        "            \"scale\": 3,\n",
        "            \"DotNetType\": \"System.DateTime, mscorlib, Version=4.0.0.0, Culture=neutral, PublicKeyToken=b77a5c561934e089\"\n",
        "        }\n",
        "    ]\"\"\""
      ]
    },
    {
      "cell_type": "code",
      "execution_count": 2,
      "outputs": [],
      "metadata": {
        "jupyter": {
          "source_hidden": false,
          "outputs_hidden": false
        },
        "nteract": {
          "transient": {
            "deleting": false
          }
        }
      },
      "source": [
        "from pyspark.sql.types import *\n",
        "\n",
        "def convert_sql_datatype_to_structfield(sql_datatype, column_name):\n",
        "    if sql_datatype == 'bigint':\n",
        "        return StructField(column_name, LongType(), True)\n",
        "    elif sql_datatype == 'binary':\n",
        "        return StructField(column_name, BinaryType(), True)\n",
        "    elif sql_datatype == 'bit':\n",
        "        return StructField(column_name, BooleanType(), True)\n",
        "    elif sql_datatype == 'char':\n",
        "        return StructField(column_name, StringType(), True)\n",
        "    elif sql_datatype == 'date':\n",
        "        return StructField(column_name, DateType(), True)\n",
        "    elif sql_datatype == 'datetime':\n",
        "        return StructField(column_name, TimestampType(), True)\n",
        "    elif sql_datatype == 'decimal':\n",
        "        return StructField(column_name, DecimalType(), True)\n",
        "    elif sql_datatype == 'float':\n",
        "        return StructField(column_name, FloatType(), True)\n",
        "    elif sql_datatype == 'int':\n",
        "        return StructField(column_name, IntegerType(), True)\n",
        "    elif sql_datatype == 'money':\n",
        "        return StructField(column_name, DecimalType(), True)\n",
        "    elif sql_datatype == 'nchar':\n",
        "        return StructField(column_name, StringType(), True)\n",
        "    elif sql_datatype == 'ntext':\n",
        "        return StructField(column_name, StringType(), True)\n",
        "    elif sql_datatype == 'numeric':\n",
        "        return StructField(column_name, DecimalType(), True)\n",
        "    elif sql_datatype == 'nvarchar':\n",
        "        return StructField(column_name, StringType(), True)\n",
        "    elif sql_datatype == 'real':\n",
        "        return StructField(column_name, FloatType(), True)\n",
        "    elif sql_datatype == 'smalldatetime':\n",
        "        return StructField(column_name, TimestampType(), True)\n",
        "    elif sql_datatype == 'smallint':\n",
        "        return StructField(column_name, ShortType(), True)\n",
        "    elif sql_datatype == 'smallmoney':\n",
        "        return StructField(column_name, DecimalType(), True)\n",
        "    elif sql_datatype == 'text':\n",
        "        return StructField(column_name, StringType(), True)\n",
        "    elif sql_datatype == 'time':\n",
        "        return StructField(column_name, StringType(), True)\n",
        "    elif sql_datatype == 'timestamp':\n",
        "        return StructField(column_name, TimestampType(), True)\n",
        "    elif sql_datatype == 'tinyint':\n",
        "        return StructField(column_name, ByteType(), True)\n",
        "    elif sql_datatype == 'uniqueidentifier':\n",
        "        return StructField(column_name, StringType(), True)\n",
        "    elif sql_datatype == 'varbinary':\n",
        "        return StructField(column_name, BinaryType(), True)\n",
        "    elif sql_datatype == 'xml':\n",
        "        return StructField(column_name, BinaryType(), True)        \n",
        "    elif sql_datatype == 'varchar':\n",
        "        return StructField(column_name, StringType(), True)\n",
        "    else:\n",
        "        raise ValueError(\"Invalid SQL data type: {}\".format(sql_datatype))\n",
        ""
      ]
    },
    {
      "cell_type": "code",
      "execution_count": 3,
      "outputs": [],
      "metadata": {
        "jupyter": {
          "source_hidden": false,
          "outputs_hidden": false
        },
        "nteract": {
          "transient": {
            "deleting": false
          }
        },
        "collapsed": false
      },
      "source": [
        "import json\n",
        "import pandas as pd\n",
        "\n",
        "df_pandas = pd.read_json(structure)\n",
        "# create DataFrame\n",
        "df_spark = spark.createDataFrame(df_pandas)\n",
        "\n",
        "display(df_spark)"
      ]
    },
    {
      "cell_type": "code",
      "execution_count": 4,
      "outputs": [],
      "metadata": {
        "jupyter": {
          "source_hidden": false,
          "outputs_hidden": false
        },
        "nteract": {
          "transient": {
            "deleting": false
          }
        }
      },
      "source": [
        "from pyspark.sql.types import StructType, StructField, StringType, IntegerType, FloatType, DoubleType, BooleanType, DecimalType, DateType, TimestampType\n",
        "\n",
        "# Create the StructType by iterating over the columns of the table\n",
        "fields = []\n",
        "for row in df_spark.collect():\n",
        "    column_name = row.name\n",
        "    column_type = row.physicalType\n",
        "    fields.append(convert_sql_datatype_to_structfield(column_type, column_name))\n",
        "\n",
        "struct_type = StructType(fields)\n",
        "\n",
        "# Print the StructType\n",
        "print(struct_type)\n",
        ""
      ]
    },
    {
      "cell_type": "code",
      "execution_count": 5,
      "outputs": [],
      "metadata": {
        "jupyter": {
          "source_hidden": false,
          "outputs_hidden": false
        },
        "nteract": {
          "transient": {
            "deleting": false
          }
        }
      },
      "source": [
        "#Return Struct Values\n",
        "mssparkutils.notebook.exit(struct_type)  "
      ]
    }
  ],
  "metadata": {
    "description": null,
    "save_output": true,
    "kernelspec": {
      "name": "synapse_pyspark",
      "display_name": "Synapse PySpark"
    },
    "language_info": {
      "name": "python"
    }
  }
}