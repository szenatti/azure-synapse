{
  "nbformat": 4,
  "nbformat_minor": 2,
  "cells": [
    {
      "cell_type": "code",
      "execution_count": 36,
      "outputs": [],
      "metadata": {
        "tags": [
          "parameters"
        ]
      },
      "source": [
        "viewName=\"vw_SalesLT_Customer\"\n",
        "path=\"AdventureWorksLT/SalesLT/Customer\"\n",
        "datasource=\"BronzeDataLake\"\n",
        "structure = \"\"\"[\n",
        "    {\n",
        "        \"physicalName\": \"CustomerID\",\n",
        "        \"type\": \"Int32\",\n",
        "        \"logicalType\": \"Int32\",\n",
        "        \"name\": \"CustomerID\",\n",
        "        \"physicalType\": \"int\",\n",
        "        \"precision\": 10,\n",
        "        \"scale\": 255,\n",
        "        \"DotNetType\": \"System.Int32, mscorlib, Version=4.0.0.0, Culture=neutral, PublicKeyToken=b77a5c561934e089\"\n",
        "    },\n",
        "    {\n",
        "        \"physicalName\": \"NameStyle\",\n",
        "        \"type\": \"Boolean\",\n",
        "        \"logicalType\": \"Boolean\",\n",
        "        \"name\": \"NameStyle\",\n",
        "        \"physicalType\": \"bit\",\n",
        "        \"precision\": 255,\n",
        "        \"scale\": 255,\n",
        "        \"DotNetType\": \"System.Boolean, mscorlib, Version=4.0.0.0, Culture=neutral, PublicKeyToken=b77a5c561934e089\"\n",
        "    },\n",
        "    {\n",
        "        \"physicalName\": \"Title\",\n",
        "        \"type\": \"String\",\n",
        "        \"logicalType\": \"String\",\n",
        "        \"name\": \"Title\",\n",
        "        \"physicalType\": \"nvarchar\",\n",
        "        \"precision\": 255,\n",
        "        \"scale\": 255,\n",
        "        \"DotNetType\": \"System.String, mscorlib, Version=4.0.0.0, Culture=neutral, PublicKeyToken=b77a5c561934e089\"\n",
        "    },\n",
        "    {\n",
        "        \"physicalName\": \"FirstName\",\n",
        "        \"type\": \"String\",\n",
        "        \"logicalType\": \"String\",\n",
        "        \"name\": \"FirstName\",\n",
        "        \"physicalType\": \"nvarchar\",\n",
        "        \"precision\": 255,\n",
        "        \"scale\": 255,\n",
        "        \"DotNetType\": \"System.String, mscorlib, Version=4.0.0.0, Culture=neutral, PublicKeyToken=b77a5c561934e089\"\n",
        "    },\n",
        "    {\n",
        "        \"physicalName\": \"MiddleName\",\n",
        "        \"type\": \"String\",\n",
        "        \"logicalType\": \"String\",\n",
        "        \"name\": \"MiddleName\",\n",
        "        \"physicalType\": \"nvarchar\",\n",
        "        \"precision\": 255,\n",
        "        \"scale\": 255,\n",
        "        \"DotNetType\": \"System.String, mscorlib, Version=4.0.0.0, Culture=neutral, PublicKeyToken=b77a5c561934e089\"\n",
        "    },\n",
        "    {\n",
        "        \"physicalName\": \"LastName\",\n",
        "        \"type\": \"String\",\n",
        "        \"logicalType\": \"String\",\n",
        "        \"name\": \"LastName\",\n",
        "        \"physicalType\": \"nvarchar\",\n",
        "        \"precision\": 255,\n",
        "        \"scale\": 255,\n",
        "        \"DotNetType\": \"System.String, mscorlib, Version=4.0.0.0, Culture=neutral, PublicKeyToken=b77a5c561934e089\"\n",
        "    },\n",
        "    {\n",
        "        \"physicalName\": \"Suffix\",\n",
        "        \"type\": \"String\",\n",
        "        \"logicalType\": \"String\",\n",
        "        \"name\": \"Suffix\",\n",
        "        \"physicalType\": \"nvarchar\",\n",
        "        \"precision\": 255,\n",
        "        \"scale\": 255,\n",
        "        \"DotNetType\": \"System.String, mscorlib, Version=4.0.0.0, Culture=neutral, PublicKeyToken=b77a5c561934e089\"\n",
        "    },\n",
        "    {\n",
        "        \"physicalName\": \"CompanyName\",\n",
        "        \"type\": \"String\",\n",
        "        \"logicalType\": \"String\",\n",
        "        \"name\": \"CompanyName\",\n",
        "        \"physicalType\": \"nvarchar\",\n",
        "        \"precision\": 255,\n",
        "        \"scale\": 255,\n",
        "        \"DotNetType\": \"System.String, mscorlib, Version=4.0.0.0, Culture=neutral, PublicKeyToken=b77a5c561934e089\"\n",
        "    },\n",
        "    {\n",
        "        \"physicalName\": \"SalesPerson\",\n",
        "        \"type\": \"String\",\n",
        "        \"logicalType\": \"String\",\n",
        "        \"name\": \"SalesPerson\",\n",
        "        \"physicalType\": \"nvarchar\",\n",
        "        \"precision\": 255,\n",
        "        \"scale\": 255,\n",
        "        \"DotNetType\": \"System.String, mscorlib, Version=4.0.0.0, Culture=neutral, PublicKeyToken=b77a5c561934e089\"\n",
        "    },\n",
        "    {\n",
        "        \"physicalName\": \"EmailAddress\",\n",
        "        \"type\": \"String\",\n",
        "        \"logicalType\": \"String\",\n",
        "        \"name\": \"EmailAddress\",\n",
        "        \"physicalType\": \"nvarchar\",\n",
        "        \"precision\": 255,\n",
        "        \"scale\": 255,\n",
        "        \"DotNetType\": \"System.String, mscorlib, Version=4.0.0.0, Culture=neutral, PublicKeyToken=b77a5c561934e089\"\n",
        "    },\n",
        "    {\n",
        "        \"physicalName\": \"Phone\",\n",
        "        \"type\": \"String\",\n",
        "        \"logicalType\": \"String\",\n",
        "        \"name\": \"Phone\",\n",
        "        \"physicalType\": \"nvarchar\",\n",
        "        \"precision\": 255,\n",
        "        \"scale\": 255,\n",
        "        \"DotNetType\": \"System.String, mscorlib, Version=4.0.0.0, Culture=neutral, PublicKeyToken=b77a5c561934e089\"\n",
        "    },\n",
        "    {\n",
        "        \"physicalName\": \"PasswordHash\",\n",
        "        \"type\": \"String\",\n",
        "        \"logicalType\": \"String\",\n",
        "        \"name\": \"PasswordHash\",\n",
        "        \"physicalType\": \"varchar\",\n",
        "        \"precision\": 255,\n",
        "        \"scale\": 255,\n",
        "        \"DotNetType\": \"System.String, mscorlib, Version=4.0.0.0, Culture=neutral, PublicKeyToken=b77a5c561934e089\"\n",
        "    },\n",
        "    {\n",
        "        \"physicalName\": \"PasswordSalt\",\n",
        "        \"type\": \"String\",\n",
        "        \"logicalType\": \"String\",\n",
        "        \"name\": \"PasswordSalt\",\n",
        "        \"physicalType\": \"varchar\",\n",
        "        \"precision\": 255,\n",
        "        \"scale\": 255,\n",
        "        \"DotNetType\": \"System.String, mscorlib, Version=4.0.0.0, Culture=neutral, PublicKeyToken=b77a5c561934e089\"\n",
        "    },\n",
        "    {\n",
        "        \"physicalName\": \"rowguid\",\n",
        "        \"type\": \"Guid\",\n",
        "        \"logicalType\": \"Guid\",\n",
        "        \"name\": \"rowguid\",\n",
        "        \"physicalType\": \"uniqueidentifier\",\n",
        "        \"precision\": 255,\n",
        "        \"scale\": 255,\n",
        "        \"DotNetType\": \"System.Guid, mscorlib, Version=4.0.0.0, Culture=neutral, PublicKeyToken=b77a5c561934e089\"\n",
        "    },\n",
        "    {\n",
        "        \"physicalName\": \"ModifiedDate\",\n",
        "        \"type\": \"DateTime\",\n",
        "        \"logicalType\": \"DateTime\",\n",
        "        \"name\": \"ModifiedDate\",\n",
        "        \"physicalType\": \"datetime\",\n",
        "        \"precision\": 23,\n",
        "        \"scale\": 3,\n",
        "        \"DotNetType\": \"System.DateTime, mscorlib, Version=4.0.0.0, Culture=neutral, PublicKeyToken=b77a5c561934e089\"\n",
        "    }\n",
        "]\"\"\""
      ]
    },
    {
      "cell_type": "code",
      "execution_count": 37,
      "outputs": [],
      "metadata": {
        "jupyter": {
          "source_hidden": false,
          "outputs_hidden": false
        },
        "nteract": {
          "transient": {
            "deleting": false
          }
        },
        "collapsed": false
      },
      "source": [
        "import json\n",
        "import pandas as pd\n",
        "\n",
        "df_pandas = pd.read_json(structure)\n",
        "# create DataFrame\n",
        "df_spark = spark.createDataFrame(df_pandas)\n",
        "\n",
        "display(df_spark)"
      ]
    },
    {
      "cell_type": "code",
      "execution_count": 38,
      "outputs": [],
      "metadata": {
        "jupyter": {
          "source_hidden": false,
          "outputs_hidden": false
        },
        "nteract": {
          "transient": {
            "deleting": false
          }
        }
      },
      "source": [
        "def get_sql_column(sql_datatype, column_name, column_precision):\n",
        "    if sql_datatype == 'varchar':\n",
        "        return f\"{column_name} {sql_datatype} ({column_precision}) \"\n",
        "    if sql_datatype == 'nvarchar':\n",
        "        return f\"{column_name} {sql_datatype} ({column_precision}) \"\n",
        "    else:\n",
        "        return f\"{column_name} {sql_datatype} \"\n",
        "\n",
        "\n",
        ""
      ]
    },
    {
      "cell_type": "code",
      "execution_count": 39,
      "outputs": [],
      "metadata": {
        "jupyter": {
          "source_hidden": false,
          "outputs_hidden": false
        },
        "nteract": {
          "transient": {
            "deleting": false
          }
        }
      },
      "source": [
        "columns = \"\"\n",
        "for row in df_spark.collect():\n",
        "    column_name = row.name\n",
        "    column_type = row.physicalType\n",
        "    column_precision = row.precision\n",
        "    columns = columns + ',' + get_sql_column(column_type, column_name, column_precision) +'\\n' if len(columns) > 0 else get_sql_column(column_type, column_name, column_precision) +'\\n'\n",
        "\n",
        "sqlStatement = f\"\"\"create or alter view {viewName} \n",
        "as\n",
        "select *\n",
        "from openrowset(\n",
        "           bulk '{path}',\n",
        "           data_source = '{datasource}',\n",
        "           format = 'delta'\n",
        "    ) with (\n",
        "           {columns}\n",
        "           ) as rows\n",
        "\"\"\"\n",
        "\n",
        "\n",
        "\n",
        "print(sqlStatement)\n",
        ""
      ]
    },
    {
      "cell_type": "code",
      "execution_count": 40,
      "outputs": [],
      "metadata": {
        "jupyter": {
          "source_hidden": false,
          "outputs_hidden": false
        },
        "nteract": {
          "transient": {
            "deleting": false
          }
        }
      },
      "source": [
        "#Return SQL Script\n",
        "mssparkutils.notebook.exit(sqlStatement)  "
      ]
    }
  ],
  "metadata": {
    "description": null,
    "save_output": true,
    "kernelspec": {
      "name": "synapse_pyspark",
      "display_name": "Synapse PySpark"
    },
    "language_info": {
      "name": "python"
    }
  }
}